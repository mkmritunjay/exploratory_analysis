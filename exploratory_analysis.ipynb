{
  "nbformat": 4,
  "nbformat_minor": 0,
  "metadata": {
    "colab": {
      "name": "exploratory_analysis.ipynb",
      "provenance": [],
      "authorship_tag": "ABX9TyOrr2S71ZRjL/RNRBhVgqSb",
      "include_colab_link": true
    },
    "kernelspec": {
      "name": "python3",
      "display_name": "Python 3"
    }
  },
  "cells": [
    {
      "cell_type": "markdown",
      "metadata": {
        "id": "view-in-github",
        "colab_type": "text"
      },
      "source": [
        "<a href=\"https://colab.research.google.com/github/mkmritunjay/exploratory_analysis/blob/master/exploratory_analysis.ipynb\" target=\"_parent\"><img src=\"https://colab.research.google.com/assets/colab-badge.svg\" alt=\"Open In Colab\"/></a>"
      ]
    },
    {
      "cell_type": "code",
      "metadata": {
        "id": "qznwIHQxtW4Y",
        "colab_type": "code",
        "colab": {}
      },
      "source": [
        "import pandas as pd"
      ],
      "execution_count": 0,
      "outputs": []
    },
    {
      "cell_type": "code",
      "metadata": {
        "id": "C5EvKfivuWkF",
        "colab_type": "code",
        "colab": {}
      },
      "source": [
        "medicare_charge_inp_url = 'https://raw.githubusercontent.com/mkmritunjay/exploratory_analysis/master/Medicare_Charge_Inpatient_DRG100_DRG_Summary_by_DRG_FY2011.csv'\n",
        "medicare_charge_outp_url = 'https://raw.githubusercontent.com/mkmritunjay/exploratory_analysis/master/Medicare_Charge_Outpatient_APC30_Summary_by_APC_CY2011.csv'\n",
        "medicare_prov_inp_url = 'https://raw.githubusercontent.com/mkmritunjay/exploratory_analysis/master/Medicare_Provider_Charge_Inpatient_DRG100_FY2011.csv'\n",
        "medicare_prov_outp_url = 'https://raw.githubusercontent.com/mkmritunjay/exploratory_analysis/master/Medicare_Provider_Charge_Outpatient_APC30_CY2011_v2.csv'\n",
        "patient_history_url = 'https://raw.githubusercontent.com/mkmritunjay/exploratory_analysis/master/Patient_history_samp.csv'\n",
        "review_patient_history_url = 'https://raw.githubusercontent.com/mkmritunjay/exploratory_analysis/master/Review_patient_history_samp.csv'\n",
        "review_transaction_url = 'https://raw.githubusercontent.com/mkmritunjay/exploratory_analysis/master/Rreview_transaction_coo.csv'\n",
        "transaction_url = 'https://raw.githubusercontent.com/mkmritunjay/exploratory_analysis/master/Transaction_coo.csv'"
      ],
      "execution_count": 0,
      "outputs": []
    },
    {
      "cell_type": "code",
      "metadata": {
        "id": "_32QDFGruCxR",
        "colab_type": "code",
        "colab": {}
      },
      "source": [
        "medicare_charge_inp = pd.read_csv(medicare_charge_inp_url)\n",
        "medicare_charge_outp = pd.read_csv(medicare_charge_outp_url)\n",
        "\n",
        "medicare_prov_inp = pd.read_csv(medicare_prov_inp_url)\n",
        "medicare_prov_outp = pd.read_csv(medicare_prov_outp_url)\n",
        "\n",
        "patient_history = pd.read_csv(patient_history_url)\n",
        "review_patient_history = pd.read_csv(review_patient_history_url)\n",
        "\n",
        "review_transaction = pd.read_csv(review_transaction_url)\n",
        "transaction = pd.read_csv(transaction_url)"
      ],
      "execution_count": 0,
      "outputs": []
    },
    {
      "cell_type": "code",
      "metadata": {
        "id": "Z3iqiJJUxf9w",
        "colab_type": "code",
        "outputId": "e0e72a49-1242-4183-ce06-c80451087506",
        "colab": {
          "base_uri": "https://localhost:8080/",
          "height": 187
        }
      },
      "source": [
        "medicare_charge_inp.info()"
      ],
      "execution_count": 6,
      "outputs": [
        {
          "output_type": "stream",
          "text": [
            "<class 'pandas.core.frame.DataFrame'>\n",
            "RangeIndex: 100 entries, 0 to 99\n",
            "Data columns (total 5 columns):\n",
            "DRG Definition               100 non-null object\n",
            "Total Discharges             100 non-null int64\n",
            "Average Covered Charges      100 non-null float64\n",
            "Average Total Payments       100 non-null float64\n",
            "Average Medicare Payments    100 non-null float64\n",
            "dtypes: float64(3), int64(1), object(1)\n",
            "memory usage: 4.0+ KB\n"
          ],
          "name": "stdout"
        }
      ]
    },
    {
      "cell_type": "code",
      "metadata": {
        "id": "MZnlOke3ygXU",
        "colab_type": "code",
        "outputId": "a59e9e6c-cbeb-4b04-af34-a69f5fda4e57",
        "colab": {
          "base_uri": "https://localhost:8080/",
          "height": 170
        }
      },
      "source": [
        "medicare_charge_outp.info()"
      ],
      "execution_count": 7,
      "outputs": [
        {
          "output_type": "stream",
          "text": [
            "<class 'pandas.core.frame.DataFrame'>\n",
            "RangeIndex: 30 entries, 0 to 29\n",
            "Data columns (total 4 columns):\n",
            "APC                                    30 non-null object\n",
            "Outpatient Services                    30 non-null int64\n",
            "Average Estimated Submitted Charges    30 non-null float64\n",
            "Average Total Payments                 30 non-null float64\n",
            "dtypes: float64(2), int64(1), object(1)\n",
            "memory usage: 1.1+ KB\n"
          ],
          "name": "stdout"
        }
      ]
    },
    {
      "cell_type": "code",
      "metadata": {
        "id": "GEFd2O6qykBv",
        "colab_type": "code",
        "outputId": "45281447-38d2-4266-ac91-f429108bd96a",
        "colab": {
          "base_uri": "https://localhost:8080/",
          "height": 289
        }
      },
      "source": [
        "medicare_prov_outp.info()"
      ],
      "execution_count": 8,
      "outputs": [
        {
          "output_type": "stream",
          "text": [
            "<class 'pandas.core.frame.DataFrame'>\n",
            "RangeIndex: 43372 entries, 0 to 43371\n",
            "Data columns (total 11 columns):\n",
            "APC                                           43372 non-null object\n",
            "Provider Id                                   43372 non-null int64\n",
            "Provider Name                                 43372 non-null object\n",
            "Provider Street Address                       43372 non-null object\n",
            "Provider City                                 43372 non-null object\n",
            "Provider State                                43372 non-null object\n",
            "Provider Zip Code                             43372 non-null int64\n",
            "Hospital Referral Region (HRR) Description    43372 non-null object\n",
            "Outpatient Services                           43372 non-null int64\n",
            "Average  Estimated Submitted Charges          43372 non-null float64\n",
            "Average Total Payments                        43372 non-null float64\n",
            "dtypes: float64(2), int64(3), object(6)\n",
            "memory usage: 3.6+ MB\n"
          ],
          "name": "stdout"
        }
      ]
    },
    {
      "cell_type": "code",
      "metadata": {
        "id": "qPxLKHeoypNp",
        "colab_type": "code",
        "outputId": "79dbb1de-7a1a-4b90-98c8-ebb2708e045f",
        "colab": {
          "base_uri": "https://localhost:8080/",
          "height": 170
        }
      },
      "source": [
        "patient_history.info()"
      ],
      "execution_count": 9,
      "outputs": [
        {
          "output_type": "stream",
          "text": [
            "<class 'pandas.core.frame.DataFrame'>\n",
            "RangeIndex: 500000 entries, 0 to 499999\n",
            "Data columns (total 4 columns):\n",
            "id        500000 non-null int64\n",
            "age       497470 non-null object\n",
            "gender    500000 non-null object\n",
            "income    497469 non-null object\n",
            "dtypes: int64(1), object(3)\n",
            "memory usage: 15.3+ MB\n"
          ],
          "name": "stdout"
        }
      ]
    },
    {
      "cell_type": "code",
      "metadata": {
        "id": "x6-IRBQAy4p4",
        "colab_type": "code",
        "outputId": "df754958-5c52-46cd-b31e-1392a89771e0",
        "colab": {
          "base_uri": "https://localhost:8080/",
          "height": 170
        }
      },
      "source": [
        "review_patient_history.info()"
      ],
      "execution_count": 10,
      "outputs": [
        {
          "output_type": "stream",
          "text": [
            "<class 'pandas.core.frame.DataFrame'>\n",
            "RangeIndex: 5000 entries, 0 to 4999\n",
            "Data columns (total 4 columns):\n",
            "id        5000 non-null int64\n",
            "age       4974 non-null object\n",
            "gender    5000 non-null object\n",
            "income    4974 non-null object\n",
            "dtypes: int64(1), object(3)\n",
            "memory usage: 156.4+ KB\n"
          ],
          "name": "stdout"
        }
      ]
    },
    {
      "cell_type": "code",
      "metadata": {
        "id": "D1ejV40Ey-H3",
        "colab_type": "code",
        "outputId": "9734fe47-6635-4dcd-c3bb-181d8f36249a",
        "colab": {
          "base_uri": "https://localhost:8080/",
          "height": 153
        }
      },
      "source": [
        "review_transaction.info()"
      ],
      "execution_count": 11,
      "outputs": [
        {
          "output_type": "stream",
          "text": [
            "<class 'pandas.core.frame.DataFrame'>\n",
            "RangeIndex: 15041 entries, 0 to 15040\n",
            "Data columns (total 3 columns):\n",
            "id                15041 non-null int64\n",
            "global_proc_id    15041 non-null int64\n",
            "count             15041 non-null int64\n",
            "dtypes: int64(3)\n",
            "memory usage: 352.6 KB\n"
          ],
          "name": "stdout"
        }
      ]
    },
    {
      "cell_type": "code",
      "metadata": {
        "id": "khNPaClJzB7O",
        "colab_type": "code",
        "outputId": "1923f96d-47d7-4fd2-cfc6-ed04b2ad5721",
        "colab": {
          "base_uri": "https://localhost:8080/",
          "height": 153
        }
      },
      "source": [
        "transaction.info()"
      ],
      "execution_count": 12,
      "outputs": [
        {
          "output_type": "stream",
          "text": [
            "<class 'pandas.core.frame.DataFrame'>\n",
            "RangeIndex: 1514809 entries, 0 to 1514808\n",
            "Data columns (total 3 columns):\n",
            "id                1514809 non-null int64\n",
            "global_proc_id    1514809 non-null int64\n",
            "count             1514809 non-null int64\n",
            "dtypes: int64(3)\n",
            "memory usage: 34.7 MB\n"
          ],
          "name": "stdout"
        }
      ]
    },
    {
      "cell_type": "code",
      "metadata": {
        "id": "moVOKeyazGW8",
        "colab_type": "code",
        "colab": {
          "base_uri": "https://localhost:8080/",
          "height": 306
        },
        "outputId": "40e87e79-ec50-4f29-8922-9a17dcbaf6f5"
      },
      "source": [
        "medicare_prov_inp.info()"
      ],
      "execution_count": 13,
      "outputs": [
        {
          "output_type": "stream",
          "text": [
            "<class 'pandas.core.frame.DataFrame'>\n",
            "RangeIndex: 163065 entries, 0 to 163064\n",
            "Data columns (total 12 columns):\n",
            "DRG Definition                                163065 non-null object\n",
            "Provider Id                                   163065 non-null int64\n",
            "Provider Name                                 163065 non-null object\n",
            "Provider Street Address                       163065 non-null object\n",
            "Provider City                                 163065 non-null object\n",
            "Provider State                                163065 non-null object\n",
            "Provider Zip Code                             163065 non-null int64\n",
            "Hospital Referral Region (HRR) Description    163065 non-null object\n",
            "Total Discharges                              163065 non-null int64\n",
            "Average Covered Charges                       163065 non-null float64\n",
            "Average Total Payments                        163065 non-null float64\n",
            "Average Medicare Payments                     163065 non-null float64\n",
            "dtypes: float64(3), int64(3), object(6)\n",
            "memory usage: 14.9+ MB\n"
          ],
          "name": "stdout"
        }
      ]
    },
    {
      "cell_type": "code",
      "metadata": {
        "id": "awCyQQp0YMLR",
        "colab_type": "code",
        "colab": {
          "base_uri": "https://localhost:8080/",
          "height": 374
        },
        "outputId": "8572d1b8-0d0f-416b-b7be-aa2ff7d1b59e"
      },
      "source": [
        "print(medicare_charge_inp.columns)\n",
        "print(40*'--')\n",
        "print(medicare_charge_outp.columns)\n",
        "print('\\n')\n",
        "print(medicare_prov_inp.columns)\n",
        "print(40*'--')\n",
        "print(medicare_prov_outp.columns)"
      ],
      "execution_count": 23,
      "outputs": [
        {
          "output_type": "stream",
          "text": [
            "Index(['DRG Definition', 'Total Discharges', 'Average Covered Charges',\n",
            "       'Average Total Payments', 'Average Medicare Payments'],\n",
            "      dtype='object')\n",
            "--------------------------------------------------------------------------------\n",
            "Index(['APC', 'Outpatient Services', 'Average Estimated Submitted Charges',\n",
            "       'Average Total Payments'],\n",
            "      dtype='object')\n",
            "\n",
            "\n",
            "Index(['DRG Definition', 'Provider Id', 'Provider Name',\n",
            "       'Provider Street Address', 'Provider City', 'Provider State',\n",
            "       'Provider Zip Code', 'Hospital Referral Region (HRR) Description',\n",
            "       'Total Discharges', 'Average Covered Charges', 'Average Total Payments',\n",
            "       'Average Medicare Payments'],\n",
            "      dtype='object')\n",
            "--------------------------------------------------------------------------------\n",
            "Index(['APC', 'Provider Id', 'Provider Name', 'Provider Street Address',\n",
            "       'Provider City', 'Provider State', 'Provider Zip Code',\n",
            "       'Hospital Referral Region (HRR) Description', 'Outpatient Services',\n",
            "       'Average  Estimated Submitted Charges', 'Average Total Payments'],\n",
            "      dtype='object')\n"
          ],
          "name": "stdout"
        }
      ]
    },
    {
      "cell_type": "code",
      "metadata": {
        "id": "DbCuYlKBbz_0",
        "colab_type": "code",
        "colab": {
          "base_uri": "https://localhost:8080/",
          "height": 51
        },
        "outputId": "4deb3c93-9f2c-4495-9887-d4f10b6d6494"
      },
      "source": [
        "print(patient_history.columns)\n",
        "print(review_patient_history.columns)"
      ],
      "execution_count": 15,
      "outputs": [
        {
          "output_type": "stream",
          "text": [
            "Index(['id', 'age', 'gender', 'income'], dtype='object')\n",
            "Index(['id', 'age', 'gender', 'income'], dtype='object')\n"
          ],
          "name": "stdout"
        }
      ]
    },
    {
      "cell_type": "code",
      "metadata": {
        "id": "8QYH6RS9b8Np",
        "colab_type": "code",
        "colab": {
          "base_uri": "https://localhost:8080/",
          "height": 51
        },
        "outputId": "99039c8a-df9d-4cd9-913d-3d443d0665e9"
      },
      "source": [
        "print(review_transaction.columns)\n",
        "print(transaction.columns)"
      ],
      "execution_count": 16,
      "outputs": [
        {
          "output_type": "stream",
          "text": [
            "Index(['id', 'global_proc_id', 'count'], dtype='object')\n",
            "Index(['id', 'global_proc_id', 'count'], dtype='object')\n"
          ],
          "name": "stdout"
        }
      ]
    },
    {
      "cell_type": "code",
      "metadata": {
        "id": "2-HCRjHPb-Nd",
        "colab_type": "code",
        "colab": {
          "base_uri": "https://localhost:8080/",
          "height": 359
        },
        "outputId": "b089340c-f7b5-45e4-e33d-d8d73892221a"
      },
      "source": [
        "medicare_charge_inp.head(10)"
      ],
      "execution_count": 24,
      "outputs": [
        {
          "output_type": "execute_result",
          "data": {
            "text/html": [
              "<div>\n",
              "<style scoped>\n",
              "    .dataframe tbody tr th:only-of-type {\n",
              "        vertical-align: middle;\n",
              "    }\n",
              "\n",
              "    .dataframe tbody tr th {\n",
              "        vertical-align: top;\n",
              "    }\n",
              "\n",
              "    .dataframe thead th {\n",
              "        text-align: right;\n",
              "    }\n",
              "</style>\n",
              "<table border=\"1\" class=\"dataframe\">\n",
              "  <thead>\n",
              "    <tr style=\"text-align: right;\">\n",
              "      <th></th>\n",
              "      <th>DRG Definition</th>\n",
              "      <th>Total Discharges</th>\n",
              "      <th>Average Covered Charges</th>\n",
              "      <th>Average Total Payments</th>\n",
              "      <th>Average Medicare Payments</th>\n",
              "    </tr>\n",
              "  </thead>\n",
              "  <tbody>\n",
              "    <tr>\n",
              "      <th>0</th>\n",
              "      <td>039 - EXTRACRANIAL PROCEDURES W/O CC/MCC</td>\n",
              "      <td>37861</td>\n",
              "      <td>29228.55368</td>\n",
              "      <td>6902.381289</td>\n",
              "      <td>5514.435910</td>\n",
              "    </tr>\n",
              "    <tr>\n",
              "      <th>1</th>\n",
              "      <td>057 - DEGENERATIVE NERVOUS SYSTEM DISORDERS W/...</td>\n",
              "      <td>37927</td>\n",
              "      <td>23924.98059</td>\n",
              "      <td>6809.799325</td>\n",
              "      <td>5791.920242</td>\n",
              "    </tr>\n",
              "    <tr>\n",
              "      <th>2</th>\n",
              "      <td>064 - INTRACRANIAL HEMORRHAGE OR CEREBRAL INFA...</td>\n",
              "      <td>68163</td>\n",
              "      <td>49186.95644</td>\n",
              "      <td>13614.616130</td>\n",
              "      <td>12415.825360</td>\n",
              "    </tr>\n",
              "    <tr>\n",
              "      <th>3</th>\n",
              "      <td>065 - INTRACRANIAL HEMORRHAGE OR CEREBRAL INFA...</td>\n",
              "      <td>110983</td>\n",
              "      <td>30371.27399</td>\n",
              "      <td>8037.269492</td>\n",
              "      <td>6858.689088</td>\n",
              "    </tr>\n",
              "    <tr>\n",
              "      <th>4</th>\n",
              "      <td>066 - INTRACRANIAL HEMORRHAGE OR CEREBRAL INFA...</td>\n",
              "      <td>62346</td>\n",
              "      <td>23300.06199</td>\n",
              "      <td>5762.881821</td>\n",
              "      <td>4508.202659</td>\n",
              "    </tr>\n",
              "    <tr>\n",
              "      <th>5</th>\n",
              "      <td>069 - TRANSIENT ISCHEMIA</td>\n",
              "      <td>85184</td>\n",
              "      <td>21518.85851</td>\n",
              "      <td>5073.717435</td>\n",
              "      <td>3964.328853</td>\n",
              "    </tr>\n",
              "    <tr>\n",
              "      <th>6</th>\n",
              "      <td>074 - CRANIAL &amp; PERIPHERAL NERVE DISORDERS W/O...</td>\n",
              "      <td>29646</td>\n",
              "      <td>24354.26867</td>\n",
              "      <td>6374.517405</td>\n",
              "      <td>5219.889395</td>\n",
              "    </tr>\n",
              "    <tr>\n",
              "      <th>7</th>\n",
              "      <td>101 - SEIZURES W/O MCC</td>\n",
              "      <td>55428</td>\n",
              "      <td>21811.26203</td>\n",
              "      <td>5705.502869</td>\n",
              "      <td>4628.453020</td>\n",
              "    </tr>\n",
              "    <tr>\n",
              "      <th>8</th>\n",
              "      <td>149 - DYSEQUILIBRIUM</td>\n",
              "      <td>31020</td>\n",
              "      <td>18565.30010</td>\n",
              "      <td>4602.074790</td>\n",
              "      <td>3452.496357</td>\n",
              "    </tr>\n",
              "    <tr>\n",
              "      <th>9</th>\n",
              "      <td>176 - PULMONARY EMBOLISM W/O MCC</td>\n",
              "      <td>39839</td>\n",
              "      <td>26586.87856</td>\n",
              "      <td>7344.599463</td>\n",
              "      <td>6141.055574</td>\n",
              "    </tr>\n",
              "  </tbody>\n",
              "</table>\n",
              "</div>"
            ],
            "text/plain": [
              "                                      DRG Definition  ...  Average Medicare Payments\n",
              "0           039 - EXTRACRANIAL PROCEDURES W/O CC/MCC  ...                5514.435910\n",
              "1  057 - DEGENERATIVE NERVOUS SYSTEM DISORDERS W/...  ...                5791.920242\n",
              "2  064 - INTRACRANIAL HEMORRHAGE OR CEREBRAL INFA...  ...               12415.825360\n",
              "3  065 - INTRACRANIAL HEMORRHAGE OR CEREBRAL INFA...  ...                6858.689088\n",
              "4  066 - INTRACRANIAL HEMORRHAGE OR CEREBRAL INFA...  ...                4508.202659\n",
              "5                           069 - TRANSIENT ISCHEMIA  ...                3964.328853\n",
              "6  074 - CRANIAL & PERIPHERAL NERVE DISORDERS W/O...  ...                5219.889395\n",
              "7                             101 - SEIZURES W/O MCC  ...                4628.453020\n",
              "8                               149 - DYSEQUILIBRIUM  ...                3452.496357\n",
              "9                   176 - PULMONARY EMBOLISM W/O MCC  ...                6141.055574\n",
              "\n",
              "[10 rows x 5 columns]"
            ]
          },
          "metadata": {
            "tags": []
          },
          "execution_count": 24
        }
      ]
    },
    {
      "cell_type": "code",
      "metadata": {
        "id": "WVfm3W70d99J",
        "colab_type": "code",
        "colab": {
          "base_uri": "https://localhost:8080/",
          "height": 359
        },
        "outputId": "5f634342-4f28-4663-a2b4-1a16866d466e"
      },
      "source": [
        "medicare_charge_outp.head(10)"
      ],
      "execution_count": 25,
      "outputs": [
        {
          "output_type": "execute_result",
          "data": {
            "text/html": [
              "<div>\n",
              "<style scoped>\n",
              "    .dataframe tbody tr th:only-of-type {\n",
              "        vertical-align: middle;\n",
              "    }\n",
              "\n",
              "    .dataframe tbody tr th {\n",
              "        vertical-align: top;\n",
              "    }\n",
              "\n",
              "    .dataframe thead th {\n",
              "        text-align: right;\n",
              "    }\n",
              "</style>\n",
              "<table border=\"1\" class=\"dataframe\">\n",
              "  <thead>\n",
              "    <tr style=\"text-align: right;\">\n",
              "      <th></th>\n",
              "      <th>APC</th>\n",
              "      <th>Outpatient Services</th>\n",
              "      <th>Average Estimated Submitted Charges</th>\n",
              "      <th>Average Total Payments</th>\n",
              "    </tr>\n",
              "  </thead>\n",
              "  <tbody>\n",
              "    <tr>\n",
              "      <th>0</th>\n",
              "      <td>0012 - Level I Debridement &amp; Destruction</td>\n",
              "      <td>275987</td>\n",
              "      <td>74.202956</td>\n",
              "      <td>16.147079</td>\n",
              "    </tr>\n",
              "    <tr>\n",
              "      <th>1</th>\n",
              "      <td>0013 - Level II Debridement &amp; Destruction</td>\n",
              "      <td>434706</td>\n",
              "      <td>196.170070</td>\n",
              "      <td>56.133853</td>\n",
              "    </tr>\n",
              "    <tr>\n",
              "      <th>2</th>\n",
              "      <td>0015 - Level III Debridement &amp; Destruction</td>\n",
              "      <td>509576</td>\n",
              "      <td>326.503444</td>\n",
              "      <td>97.156250</td>\n",
              "    </tr>\n",
              "    <tr>\n",
              "      <th>3</th>\n",
              "      <td>0019 - Level I Excision/ Biopsy</td>\n",
              "      <td>27860</td>\n",
              "      <td>2013.181972</td>\n",
              "      <td>330.908369</td>\n",
              "    </tr>\n",
              "    <tr>\n",
              "      <th>4</th>\n",
              "      <td>0020 - Level II Excision/ Biopsy</td>\n",
              "      <td>40642</td>\n",
              "      <td>3161.457873</td>\n",
              "      <td>567.156154</td>\n",
              "    </tr>\n",
              "    <tr>\n",
              "      <th>5</th>\n",
              "      <td>0073 - Level III Endoscopy Upper Airway</td>\n",
              "      <td>9094</td>\n",
              "      <td>899.357815</td>\n",
              "      <td>297.217209</td>\n",
              "    </tr>\n",
              "    <tr>\n",
              "      <th>6</th>\n",
              "      <td>0074 - Level IV Endoscopy Upper Airway</td>\n",
              "      <td>17231</td>\n",
              "      <td>6840.643287</td>\n",
              "      <td>1471.799719</td>\n",
              "    </tr>\n",
              "    <tr>\n",
              "      <th>7</th>\n",
              "      <td>0078 - Level III Pulmonary Treatment</td>\n",
              "      <td>229101</td>\n",
              "      <td>545.202941</td>\n",
              "      <td>97.847774</td>\n",
              "    </tr>\n",
              "    <tr>\n",
              "      <th>8</th>\n",
              "      <td>0096 - Level II Noninvasive Physiologic Studies</td>\n",
              "      <td>218179</td>\n",
              "      <td>757.146165</td>\n",
              "      <td>104.735983</td>\n",
              "    </tr>\n",
              "    <tr>\n",
              "      <th>9</th>\n",
              "      <td>0203 - Level IV Nerve Injections</td>\n",
              "      <td>6748</td>\n",
              "      <td>3708.442756</td>\n",
              "      <td>840.664003</td>\n",
              "    </tr>\n",
              "  </tbody>\n",
              "</table>\n",
              "</div>"
            ],
            "text/plain": [
              "                                               APC  ...  Average Total Payments\n",
              "0         0012 - Level I Debridement & Destruction  ...               16.147079\n",
              "1        0013 - Level II Debridement & Destruction  ...               56.133853\n",
              "2       0015 - Level III Debridement & Destruction  ...               97.156250\n",
              "3                  0019 - Level I Excision/ Biopsy  ...              330.908369\n",
              "4                 0020 - Level II Excision/ Biopsy  ...              567.156154\n",
              "5          0073 - Level III Endoscopy Upper Airway  ...              297.217209\n",
              "6           0074 - Level IV Endoscopy Upper Airway  ...             1471.799719\n",
              "7             0078 - Level III Pulmonary Treatment  ...               97.847774\n",
              "8  0096 - Level II Noninvasive Physiologic Studies  ...              104.735983\n",
              "9                 0203 - Level IV Nerve Injections  ...              840.664003\n",
              "\n",
              "[10 rows x 4 columns]"
            ]
          },
          "metadata": {
            "tags": []
          },
          "execution_count": 25
        }
      ]
    },
    {
      "cell_type": "code",
      "metadata": {
        "id": "6wQuvJW0eKHx",
        "colab_type": "code",
        "colab": {}
      },
      "source": [
        ""
      ],
      "execution_count": 0,
      "outputs": []
    }
  ]
}