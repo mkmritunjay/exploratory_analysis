{
  "nbformat": 4,
  "nbformat_minor": 0,
  "metadata": {
    "colab": {
      "name": "exploratory_analysis.ipynb",
      "provenance": [],
      "authorship_tag": "ABX9TyOKBXOZYumB3pnqdrEN3kMb",
      "include_colab_link": true
    },
    "kernelspec": {
      "name": "python3",
      "display_name": "Python 3"
    }
  },
  "cells": [
    {
      "cell_type": "markdown",
      "metadata": {
        "id": "view-in-github",
        "colab_type": "text"
      },
      "source": [
        "<a href=\"https://colab.research.google.com/github/mkmritunjay/exploratory_analysis/blob/master/exploratory_analysis.ipynb\" target=\"_parent\"><img src=\"https://colab.research.google.com/assets/colab-badge.svg\" alt=\"Open In Colab\"/></a>"
      ]
    },
    {
      "cell_type": "code",
      "metadata": {
        "id": "qznwIHQxtW4Y",
        "colab_type": "code",
        "colab": {}
      },
      "source": [
        "import pandas as pd\n",
        "import matplotlib.pyplot as plt\n",
        "%matplotlib inline"
      ],
      "execution_count": 0,
      "outputs": []
    },
    {
      "cell_type": "code",
      "metadata": {
        "id": "C5EvKfivuWkF",
        "colab_type": "code",
        "colab": {}
      },
      "source": [
        "medicare_charge_inp_url = 'https://raw.githubusercontent.com/mkmritunjay/exploratory_analysis/master/Medicare_Charge_Inpatient_DRG100_DRG_Summary_by_DRG_FY2011.csv'\n",
        "medicare_charge_outp_url = 'https://raw.githubusercontent.com/mkmritunjay/exploratory_analysis/master/Medicare_Charge_Outpatient_APC30_Summary_by_APC_CY2011.csv'\n",
        "medicare_prov_inp_url = 'https://raw.githubusercontent.com/mkmritunjay/exploratory_analysis/master/Medicare_Provider_Charge_Inpatient_DRG100_FY2011.csv'\n",
        "medicare_prov_outp_url = 'https://raw.githubusercontent.com/mkmritunjay/exploratory_analysis/master/Medicare_Provider_Charge_Outpatient_APC30_CY2011_v2.csv'\n",
        "patient_history_url = 'https://raw.githubusercontent.com/mkmritunjay/exploratory_analysis/master/Patient_history_samp.csv'\n",
        "review_patient_history_url = 'https://raw.githubusercontent.com/mkmritunjay/exploratory_analysis/master/Review_patient_history_samp.csv'\n",
        "review_transaction_url = 'https://raw.githubusercontent.com/mkmritunjay/exploratory_analysis/master/Rreview_transaction_coo.csv'\n",
        "transaction_url = 'https://raw.githubusercontent.com/mkmritunjay/exploratory_analysis/master/Transaction_coo.csv'"
      ],
      "execution_count": 0,
      "outputs": []
    },
    {
      "cell_type": "code",
      "metadata": {
        "id": "_32QDFGruCxR",
        "colab_type": "code",
        "colab": {}
      },
      "source": [
        "medicare_charge_inp = pd.read_csv(medicare_charge_inp_url)\n",
        "medicare_charge_outp = pd.read_csv(medicare_charge_outp_url)\n",
        "\n",
        "medicare_prov_inp = pd.read_csv(medicare_prov_inp_url)\n",
        "medicare_prov_outp = pd.read_csv(medicare_prov_outp_url)\n",
        "\n",
        "patient_history = pd.read_csv(patient_history_url)\n",
        "review_patient_history = pd.read_csv(review_patient_history_url)\n",
        "\n",
        "review_transaction = pd.read_csv(review_transaction_url)\n",
        "transaction = pd.read_csv(transaction_url)"
      ],
      "execution_count": 0,
      "outputs": []
    },
    {
      "cell_type": "code",
      "metadata": {
        "id": "Z3iqiJJUxf9w",
        "colab_type": "code",
        "outputId": "8587363f-f144-43bf-b8c8-35ae93fcfc7c",
        "colab": {
          "base_uri": "https://localhost:8080/",
          "height": 221
        }
      },
      "source": [
        "medicare_charge_inp.info()"
      ],
      "execution_count": 4,
      "outputs": [
        {
          "output_type": "stream",
          "text": [
            "<class 'pandas.core.frame.DataFrame'>\n",
            "RangeIndex: 100 entries, 0 to 99\n",
            "Data columns (total 5 columns):\n",
            " #   Column                     Non-Null Count  Dtype  \n",
            "---  ------                     --------------  -----  \n",
            " 0   DRG Definition             100 non-null    object \n",
            " 1   Total Discharges           100 non-null    int64  \n",
            " 2   Average Covered Charges    100 non-null    float64\n",
            " 3   Average Total Payments     100 non-null    float64\n",
            " 4   Average Medicare Payments  100 non-null    float64\n",
            "dtypes: float64(3), int64(1), object(1)\n",
            "memory usage: 4.0+ KB\n"
          ],
          "name": "stdout"
        }
      ]
    },
    {
      "cell_type": "code",
      "metadata": {
        "id": "MZnlOke3ygXU",
        "colab_type": "code",
        "outputId": "9ebe4c90-7b43-46e5-d1e6-2a6106603b96",
        "colab": {
          "base_uri": "https://localhost:8080/",
          "height": 204
        }
      },
      "source": [
        "medicare_charge_outp.info()"
      ],
      "execution_count": 5,
      "outputs": [
        {
          "output_type": "stream",
          "text": [
            "<class 'pandas.core.frame.DataFrame'>\n",
            "RangeIndex: 30 entries, 0 to 29\n",
            "Data columns (total 4 columns):\n",
            " #   Column                               Non-Null Count  Dtype  \n",
            "---  ------                               --------------  -----  \n",
            " 0   APC                                  30 non-null     object \n",
            " 1   Outpatient Services                  30 non-null     int64  \n",
            " 2   Average Estimated Submitted Charges  30 non-null     float64\n",
            " 3   Average Total Payments               30 non-null     float64\n",
            "dtypes: float64(2), int64(1), object(1)\n",
            "memory usage: 1.1+ KB\n"
          ],
          "name": "stdout"
        }
      ]
    },
    {
      "cell_type": "code",
      "metadata": {
        "id": "nRsgkGn3yzfj",
        "colab_type": "code",
        "outputId": "ddba1690-6f5c-4886-9651-dea97f42ecd0",
        "colab": {
          "base_uri": "https://localhost:8080/",
          "height": 340
        }
      },
      "source": [
        "medicare_prov_inp.info()"
      ],
      "execution_count": 6,
      "outputs": [
        {
          "output_type": "stream",
          "text": [
            "<class 'pandas.core.frame.DataFrame'>\n",
            "RangeIndex: 163065 entries, 0 to 163064\n",
            "Data columns (total 12 columns):\n",
            " #   Column                                      Non-Null Count   Dtype  \n",
            "---  ------                                      --------------   -----  \n",
            " 0   DRG Definition                              163065 non-null  object \n",
            " 1   Provider Id                                 163065 non-null  int64  \n",
            " 2   Provider Name                               163065 non-null  object \n",
            " 3   Provider Street Address                     163065 non-null  object \n",
            " 4   Provider City                               163065 non-null  object \n",
            " 5   Provider State                              163065 non-null  object \n",
            " 6   Provider Zip Code                           163065 non-null  int64  \n",
            " 7   Hospital Referral Region (HRR) Description  163065 non-null  object \n",
            " 8   Total Discharges                            163065 non-null  int64  \n",
            " 9   Average Covered Charges                     163065 non-null  float64\n",
            " 10  Average Total Payments                      163065 non-null  float64\n",
            " 11  Average Medicare Payments                   163065 non-null  float64\n",
            "dtypes: float64(3), int64(3), object(6)\n",
            "memory usage: 14.9+ MB\n"
          ],
          "name": "stdout"
        }
      ]
    },
    {
      "cell_type": "code",
      "metadata": {
        "id": "GEFd2O6qykBv",
        "colab_type": "code",
        "outputId": "7198a378-4fc3-416f-ed5d-09f801917a70",
        "colab": {
          "base_uri": "https://localhost:8080/",
          "height": 323
        }
      },
      "source": [
        "medicare_prov_outp.info()"
      ],
      "execution_count": 7,
      "outputs": [
        {
          "output_type": "stream",
          "text": [
            "<class 'pandas.core.frame.DataFrame'>\n",
            "RangeIndex: 43372 entries, 0 to 43371\n",
            "Data columns (total 11 columns):\n",
            " #   Column                                      Non-Null Count  Dtype  \n",
            "---  ------                                      --------------  -----  \n",
            " 0   APC                                         43372 non-null  object \n",
            " 1   Provider Id                                 43372 non-null  int64  \n",
            " 2   Provider Name                               43372 non-null  object \n",
            " 3   Provider Street Address                     43372 non-null  object \n",
            " 4   Provider City                               43372 non-null  object \n",
            " 5   Provider State                              43372 non-null  object \n",
            " 6   Provider Zip Code                           43372 non-null  int64  \n",
            " 7   Hospital Referral Region (HRR) Description  43372 non-null  object \n",
            " 8   Outpatient Services                         43372 non-null  int64  \n",
            " 9   Average  Estimated Submitted Charges        43372 non-null  float64\n",
            " 10  Average Total Payments                      43372 non-null  float64\n",
            "dtypes: float64(2), int64(3), object(6)\n",
            "memory usage: 3.6+ MB\n"
          ],
          "name": "stdout"
        }
      ]
    },
    {
      "cell_type": "code",
      "metadata": {
        "id": "qPxLKHeoypNp",
        "colab_type": "code",
        "outputId": "f3e5a908-c0bd-4ebb-95b4-64043a8e4f1c",
        "colab": {
          "base_uri": "https://localhost:8080/",
          "height": 204
        }
      },
      "source": [
        "patient_history.info()"
      ],
      "execution_count": 8,
      "outputs": [
        {
          "output_type": "stream",
          "text": [
            "<class 'pandas.core.frame.DataFrame'>\n",
            "RangeIndex: 500000 entries, 0 to 499999\n",
            "Data columns (total 4 columns):\n",
            " #   Column  Non-Null Count   Dtype \n",
            "---  ------  --------------   ----- \n",
            " 0   id      500000 non-null  int64 \n",
            " 1   age     497470 non-null  object\n",
            " 2   gender  500000 non-null  object\n",
            " 3   income  497469 non-null  object\n",
            "dtypes: int64(1), object(3)\n",
            "memory usage: 15.3+ MB\n"
          ],
          "name": "stdout"
        }
      ]
    },
    {
      "cell_type": "code",
      "metadata": {
        "id": "x6-IRBQAy4p4",
        "colab_type": "code",
        "outputId": "2896aa12-1908-4b3b-b359-f408be6b77d6",
        "colab": {
          "base_uri": "https://localhost:8080/",
          "height": 204
        }
      },
      "source": [
        "review_patient_history.info()"
      ],
      "execution_count": 9,
      "outputs": [
        {
          "output_type": "stream",
          "text": [
            "<class 'pandas.core.frame.DataFrame'>\n",
            "RangeIndex: 5000 entries, 0 to 4999\n",
            "Data columns (total 4 columns):\n",
            " #   Column  Non-Null Count  Dtype \n",
            "---  ------  --------------  ----- \n",
            " 0   id      5000 non-null   int64 \n",
            " 1   age     4974 non-null   object\n",
            " 2   gender  5000 non-null   object\n",
            " 3   income  4974 non-null   object\n",
            "dtypes: int64(1), object(3)\n",
            "memory usage: 156.4+ KB\n"
          ],
          "name": "stdout"
        }
      ]
    },
    {
      "cell_type": "code",
      "metadata": {
        "id": "D1ejV40Ey-H3",
        "colab_type": "code",
        "outputId": "71602de5-f73e-4d46-e2c6-37189aceeb63",
        "colab": {
          "base_uri": "https://localhost:8080/",
          "height": 187
        }
      },
      "source": [
        "review_transaction.info()"
      ],
      "execution_count": 10,
      "outputs": [
        {
          "output_type": "stream",
          "text": [
            "<class 'pandas.core.frame.DataFrame'>\n",
            "RangeIndex: 15041 entries, 0 to 15040\n",
            "Data columns (total 3 columns):\n",
            " #   Column          Non-Null Count  Dtype\n",
            "---  ------          --------------  -----\n",
            " 0   id              15041 non-null  int64\n",
            " 1   global_proc_id  15041 non-null  int64\n",
            " 2   count           15041 non-null  int64\n",
            "dtypes: int64(3)\n",
            "memory usage: 352.6 KB\n"
          ],
          "name": "stdout"
        }
      ]
    },
    {
      "cell_type": "code",
      "metadata": {
        "id": "khNPaClJzB7O",
        "colab_type": "code",
        "outputId": "971c85a4-616f-4d5a-ea3b-e9e33b9757c8",
        "colab": {
          "base_uri": "https://localhost:8080/",
          "height": 187
        }
      },
      "source": [
        "transaction.info()"
      ],
      "execution_count": 11,
      "outputs": [
        {
          "output_type": "stream",
          "text": [
            "<class 'pandas.core.frame.DataFrame'>\n",
            "RangeIndex: 1514809 entries, 0 to 1514808\n",
            "Data columns (total 3 columns):\n",
            " #   Column          Non-Null Count    Dtype\n",
            "---  ------          --------------    -----\n",
            " 0   id              1514809 non-null  int64\n",
            " 1   global_proc_id  1514809 non-null  int64\n",
            " 2   count           1514809 non-null  int64\n",
            "dtypes: int64(3)\n",
            "memory usage: 34.7 MB\n"
          ],
          "name": "stdout"
        }
      ]
    },
    {
      "cell_type": "code",
      "metadata": {
        "id": "6wQuvJW0eKHx",
        "colab_type": "code",
        "colab": {
          "base_uri": "https://localhost:8080/",
          "height": 359
        },
        "outputId": "4ee946b1-3b3f-45c2-a9de-7d53e8748ca5"
      },
      "source": [
        "medicare_charge_inp.head(10)"
      ],
      "execution_count": 12,
      "outputs": [
        {
          "output_type": "execute_result",
          "data": {
            "text/html": [
              "<div>\n",
              "<style scoped>\n",
              "    .dataframe tbody tr th:only-of-type {\n",
              "        vertical-align: middle;\n",
              "    }\n",
              "\n",
              "    .dataframe tbody tr th {\n",
              "        vertical-align: top;\n",
              "    }\n",
              "\n",
              "    .dataframe thead th {\n",
              "        text-align: right;\n",
              "    }\n",
              "</style>\n",
              "<table border=\"1\" class=\"dataframe\">\n",
              "  <thead>\n",
              "    <tr style=\"text-align: right;\">\n",
              "      <th></th>\n",
              "      <th>DRG Definition</th>\n",
              "      <th>Total Discharges</th>\n",
              "      <th>Average Covered Charges</th>\n",
              "      <th>Average Total Payments</th>\n",
              "      <th>Average Medicare Payments</th>\n",
              "    </tr>\n",
              "  </thead>\n",
              "  <tbody>\n",
              "    <tr>\n",
              "      <th>0</th>\n",
              "      <td>039 - EXTRACRANIAL PROCEDURES W/O CC/MCC</td>\n",
              "      <td>37861</td>\n",
              "      <td>29228.55368</td>\n",
              "      <td>6902.381289</td>\n",
              "      <td>5514.435910</td>\n",
              "    </tr>\n",
              "    <tr>\n",
              "      <th>1</th>\n",
              "      <td>057 - DEGENERATIVE NERVOUS SYSTEM DISORDERS W/...</td>\n",
              "      <td>37927</td>\n",
              "      <td>23924.98059</td>\n",
              "      <td>6809.799325</td>\n",
              "      <td>5791.920242</td>\n",
              "    </tr>\n",
              "    <tr>\n",
              "      <th>2</th>\n",
              "      <td>064 - INTRACRANIAL HEMORRHAGE OR CEREBRAL INFA...</td>\n",
              "      <td>68163</td>\n",
              "      <td>49186.95644</td>\n",
              "      <td>13614.616130</td>\n",
              "      <td>12415.825360</td>\n",
              "    </tr>\n",
              "    <tr>\n",
              "      <th>3</th>\n",
              "      <td>065 - INTRACRANIAL HEMORRHAGE OR CEREBRAL INFA...</td>\n",
              "      <td>110983</td>\n",
              "      <td>30371.27399</td>\n",
              "      <td>8037.269492</td>\n",
              "      <td>6858.689088</td>\n",
              "    </tr>\n",
              "    <tr>\n",
              "      <th>4</th>\n",
              "      <td>066 - INTRACRANIAL HEMORRHAGE OR CEREBRAL INFA...</td>\n",
              "      <td>62346</td>\n",
              "      <td>23300.06199</td>\n",
              "      <td>5762.881821</td>\n",
              "      <td>4508.202659</td>\n",
              "    </tr>\n",
              "    <tr>\n",
              "      <th>5</th>\n",
              "      <td>069 - TRANSIENT ISCHEMIA</td>\n",
              "      <td>85184</td>\n",
              "      <td>21518.85851</td>\n",
              "      <td>5073.717435</td>\n",
              "      <td>3964.328853</td>\n",
              "    </tr>\n",
              "    <tr>\n",
              "      <th>6</th>\n",
              "      <td>074 - CRANIAL &amp; PERIPHERAL NERVE DISORDERS W/O...</td>\n",
              "      <td>29646</td>\n",
              "      <td>24354.26867</td>\n",
              "      <td>6374.517405</td>\n",
              "      <td>5219.889395</td>\n",
              "    </tr>\n",
              "    <tr>\n",
              "      <th>7</th>\n",
              "      <td>101 - SEIZURES W/O MCC</td>\n",
              "      <td>55428</td>\n",
              "      <td>21811.26203</td>\n",
              "      <td>5705.502869</td>\n",
              "      <td>4628.453020</td>\n",
              "    </tr>\n",
              "    <tr>\n",
              "      <th>8</th>\n",
              "      <td>149 - DYSEQUILIBRIUM</td>\n",
              "      <td>31020</td>\n",
              "      <td>18565.30010</td>\n",
              "      <td>4602.074790</td>\n",
              "      <td>3452.496357</td>\n",
              "    </tr>\n",
              "    <tr>\n",
              "      <th>9</th>\n",
              "      <td>176 - PULMONARY EMBOLISM W/O MCC</td>\n",
              "      <td>39839</td>\n",
              "      <td>26586.87856</td>\n",
              "      <td>7344.599463</td>\n",
              "      <td>6141.055574</td>\n",
              "    </tr>\n",
              "  </tbody>\n",
              "</table>\n",
              "</div>"
            ],
            "text/plain": [
              "                                      DRG Definition  ...  Average Medicare Payments\n",
              "0           039 - EXTRACRANIAL PROCEDURES W/O CC/MCC  ...                5514.435910\n",
              "1  057 - DEGENERATIVE NERVOUS SYSTEM DISORDERS W/...  ...                5791.920242\n",
              "2  064 - INTRACRANIAL HEMORRHAGE OR CEREBRAL INFA...  ...               12415.825360\n",
              "3  065 - INTRACRANIAL HEMORRHAGE OR CEREBRAL INFA...  ...                6858.689088\n",
              "4  066 - INTRACRANIAL HEMORRHAGE OR CEREBRAL INFA...  ...                4508.202659\n",
              "5                           069 - TRANSIENT ISCHEMIA  ...                3964.328853\n",
              "6  074 - CRANIAL & PERIPHERAL NERVE DISORDERS W/O...  ...                5219.889395\n",
              "7                             101 - SEIZURES W/O MCC  ...                4628.453020\n",
              "8                               149 - DYSEQUILIBRIUM  ...                3452.496357\n",
              "9                   176 - PULMONARY EMBOLISM W/O MCC  ...                6141.055574\n",
              "\n",
              "[10 rows x 5 columns]"
            ]
          },
          "metadata": {
            "tags": []
          },
          "execution_count": 12
        }
      ]
    },
    {
      "cell_type": "code",
      "metadata": {
        "id": "T29YzqKHTyT2",
        "colab_type": "code",
        "colab": {
          "base_uri": "https://localhost:8080/",
          "height": 359
        },
        "outputId": "c90d38c0-c8bc-47d5-ff31-9aab924894e9"
      },
      "source": [
        "medicare_charge_outp.head(10)"
      ],
      "execution_count": 13,
      "outputs": [
        {
          "output_type": "execute_result",
          "data": {
            "text/html": [
              "<div>\n",
              "<style scoped>\n",
              "    .dataframe tbody tr th:only-of-type {\n",
              "        vertical-align: middle;\n",
              "    }\n",
              "\n",
              "    .dataframe tbody tr th {\n",
              "        vertical-align: top;\n",
              "    }\n",
              "\n",
              "    .dataframe thead th {\n",
              "        text-align: right;\n",
              "    }\n",
              "</style>\n",
              "<table border=\"1\" class=\"dataframe\">\n",
              "  <thead>\n",
              "    <tr style=\"text-align: right;\">\n",
              "      <th></th>\n",
              "      <th>APC</th>\n",
              "      <th>Outpatient Services</th>\n",
              "      <th>Average Estimated Submitted Charges</th>\n",
              "      <th>Average Total Payments</th>\n",
              "    </tr>\n",
              "  </thead>\n",
              "  <tbody>\n",
              "    <tr>\n",
              "      <th>0</th>\n",
              "      <td>0012 - Level I Debridement &amp; Destruction</td>\n",
              "      <td>275987</td>\n",
              "      <td>74.202956</td>\n",
              "      <td>16.147079</td>\n",
              "    </tr>\n",
              "    <tr>\n",
              "      <th>1</th>\n",
              "      <td>0013 - Level II Debridement &amp; Destruction</td>\n",
              "      <td>434706</td>\n",
              "      <td>196.170070</td>\n",
              "      <td>56.133853</td>\n",
              "    </tr>\n",
              "    <tr>\n",
              "      <th>2</th>\n",
              "      <td>0015 - Level III Debridement &amp; Destruction</td>\n",
              "      <td>509576</td>\n",
              "      <td>326.503444</td>\n",
              "      <td>97.156250</td>\n",
              "    </tr>\n",
              "    <tr>\n",
              "      <th>3</th>\n",
              "      <td>0019 - Level I Excision/ Biopsy</td>\n",
              "      <td>27860</td>\n",
              "      <td>2013.181972</td>\n",
              "      <td>330.908369</td>\n",
              "    </tr>\n",
              "    <tr>\n",
              "      <th>4</th>\n",
              "      <td>0020 - Level II Excision/ Biopsy</td>\n",
              "      <td>40642</td>\n",
              "      <td>3161.457873</td>\n",
              "      <td>567.156154</td>\n",
              "    </tr>\n",
              "    <tr>\n",
              "      <th>5</th>\n",
              "      <td>0073 - Level III Endoscopy Upper Airway</td>\n",
              "      <td>9094</td>\n",
              "      <td>899.357815</td>\n",
              "      <td>297.217209</td>\n",
              "    </tr>\n",
              "    <tr>\n",
              "      <th>6</th>\n",
              "      <td>0074 - Level IV Endoscopy Upper Airway</td>\n",
              "      <td>17231</td>\n",
              "      <td>6840.643287</td>\n",
              "      <td>1471.799719</td>\n",
              "    </tr>\n",
              "    <tr>\n",
              "      <th>7</th>\n",
              "      <td>0078 - Level III Pulmonary Treatment</td>\n",
              "      <td>229101</td>\n",
              "      <td>545.202941</td>\n",
              "      <td>97.847774</td>\n",
              "    </tr>\n",
              "    <tr>\n",
              "      <th>8</th>\n",
              "      <td>0096 - Level II Noninvasive Physiologic Studies</td>\n",
              "      <td>218179</td>\n",
              "      <td>757.146165</td>\n",
              "      <td>104.735983</td>\n",
              "    </tr>\n",
              "    <tr>\n",
              "      <th>9</th>\n",
              "      <td>0203 - Level IV Nerve Injections</td>\n",
              "      <td>6748</td>\n",
              "      <td>3708.442756</td>\n",
              "      <td>840.664003</td>\n",
              "    </tr>\n",
              "  </tbody>\n",
              "</table>\n",
              "</div>"
            ],
            "text/plain": [
              "                                               APC  ...  Average Total Payments\n",
              "0         0012 - Level I Debridement & Destruction  ...               16.147079\n",
              "1        0013 - Level II Debridement & Destruction  ...               56.133853\n",
              "2       0015 - Level III Debridement & Destruction  ...               97.156250\n",
              "3                  0019 - Level I Excision/ Biopsy  ...              330.908369\n",
              "4                 0020 - Level II Excision/ Biopsy  ...              567.156154\n",
              "5          0073 - Level III Endoscopy Upper Airway  ...              297.217209\n",
              "6           0074 - Level IV Endoscopy Upper Airway  ...             1471.799719\n",
              "7             0078 - Level III Pulmonary Treatment  ...               97.847774\n",
              "8  0096 - Level II Noninvasive Physiologic Studies  ...              104.735983\n",
              "9                 0203 - Level IV Nerve Injections  ...              840.664003\n",
              "\n",
              "[10 rows x 4 columns]"
            ]
          },
          "metadata": {
            "tags": []
          },
          "execution_count": 13
        }
      ]
    },
    {
      "cell_type": "code",
      "metadata": {
        "id": "GhIvUOqQT2XM",
        "colab_type": "code",
        "colab": {
          "base_uri": "https://localhost:8080/",
          "height": 750
        },
        "outputId": "e9dbd5a8-273c-4022-ca50-4532319007b4"
      },
      "source": [
        "medicare_prov_inp.head(10)"
      ],
      "execution_count": 14,
      "outputs": [
        {
          "output_type": "execute_result",
          "data": {
            "text/html": [
              "<div>\n",
              "<style scoped>\n",
              "    .dataframe tbody tr th:only-of-type {\n",
              "        vertical-align: middle;\n",
              "    }\n",
              "\n",
              "    .dataframe tbody tr th {\n",
              "        vertical-align: top;\n",
              "    }\n",
              "\n",
              "    .dataframe thead th {\n",
              "        text-align: right;\n",
              "    }\n",
              "</style>\n",
              "<table border=\"1\" class=\"dataframe\">\n",
              "  <thead>\n",
              "    <tr style=\"text-align: right;\">\n",
              "      <th></th>\n",
              "      <th>DRG Definition</th>\n",
              "      <th>Provider Id</th>\n",
              "      <th>Provider Name</th>\n",
              "      <th>Provider Street Address</th>\n",
              "      <th>Provider City</th>\n",
              "      <th>Provider State</th>\n",
              "      <th>Provider Zip Code</th>\n",
              "      <th>Hospital Referral Region (HRR) Description</th>\n",
              "      <th>Total Discharges</th>\n",
              "      <th>Average Covered Charges</th>\n",
              "      <th>Average Total Payments</th>\n",
              "      <th>Average Medicare Payments</th>\n",
              "    </tr>\n",
              "  </thead>\n",
              "  <tbody>\n",
              "    <tr>\n",
              "      <th>0</th>\n",
              "      <td>039 - EXTRACRANIAL PROCEDURES W/O CC/MCC</td>\n",
              "      <td>10001</td>\n",
              "      <td>SOUTHEAST ALABAMA MEDICAL CENTER</td>\n",
              "      <td>1108 ROSS CLARK CIRCLE</td>\n",
              "      <td>DOTHAN</td>\n",
              "      <td>AL</td>\n",
              "      <td>36301</td>\n",
              "      <td>AL - Dothan</td>\n",
              "      <td>91</td>\n",
              "      <td>32963.07692</td>\n",
              "      <td>5777.241758</td>\n",
              "      <td>4763.736264</td>\n",
              "    </tr>\n",
              "    <tr>\n",
              "      <th>1</th>\n",
              "      <td>039 - EXTRACRANIAL PROCEDURES W/O CC/MCC</td>\n",
              "      <td>10005</td>\n",
              "      <td>MARSHALL MEDICAL CENTER SOUTH</td>\n",
              "      <td>2505 U S HIGHWAY 431 NORTH</td>\n",
              "      <td>BOAZ</td>\n",
              "      <td>AL</td>\n",
              "      <td>35957</td>\n",
              "      <td>AL - Birmingham</td>\n",
              "      <td>14</td>\n",
              "      <td>15131.85714</td>\n",
              "      <td>5787.571429</td>\n",
              "      <td>4976.714286</td>\n",
              "    </tr>\n",
              "    <tr>\n",
              "      <th>2</th>\n",
              "      <td>039 - EXTRACRANIAL PROCEDURES W/O CC/MCC</td>\n",
              "      <td>10006</td>\n",
              "      <td>ELIZA COFFEE MEMORIAL HOSPITAL</td>\n",
              "      <td>205 MARENGO STREET</td>\n",
              "      <td>FLORENCE</td>\n",
              "      <td>AL</td>\n",
              "      <td>35631</td>\n",
              "      <td>AL - Birmingham</td>\n",
              "      <td>24</td>\n",
              "      <td>37560.37500</td>\n",
              "      <td>5434.958333</td>\n",
              "      <td>4453.791667</td>\n",
              "    </tr>\n",
              "    <tr>\n",
              "      <th>3</th>\n",
              "      <td>039 - EXTRACRANIAL PROCEDURES W/O CC/MCC</td>\n",
              "      <td>10011</td>\n",
              "      <td>ST VINCENT'S EAST</td>\n",
              "      <td>50 MEDICAL PARK EAST DRIVE</td>\n",
              "      <td>BIRMINGHAM</td>\n",
              "      <td>AL</td>\n",
              "      <td>35235</td>\n",
              "      <td>AL - Birmingham</td>\n",
              "      <td>25</td>\n",
              "      <td>13998.28000</td>\n",
              "      <td>5417.560000</td>\n",
              "      <td>4129.160000</td>\n",
              "    </tr>\n",
              "    <tr>\n",
              "      <th>4</th>\n",
              "      <td>039 - EXTRACRANIAL PROCEDURES W/O CC/MCC</td>\n",
              "      <td>10016</td>\n",
              "      <td>SHELBY BAPTIST MEDICAL CENTER</td>\n",
              "      <td>1000 FIRST STREET NORTH</td>\n",
              "      <td>ALABASTER</td>\n",
              "      <td>AL</td>\n",
              "      <td>35007</td>\n",
              "      <td>AL - Birmingham</td>\n",
              "      <td>18</td>\n",
              "      <td>31633.27778</td>\n",
              "      <td>5658.333333</td>\n",
              "      <td>4851.444444</td>\n",
              "    </tr>\n",
              "    <tr>\n",
              "      <th>5</th>\n",
              "      <td>039 - EXTRACRANIAL PROCEDURES W/O CC/MCC</td>\n",
              "      <td>10023</td>\n",
              "      <td>BAPTIST MEDICAL CENTER SOUTH</td>\n",
              "      <td>2105 EAST SOUTH BOULEVARD</td>\n",
              "      <td>MONTGOMERY</td>\n",
              "      <td>AL</td>\n",
              "      <td>36116</td>\n",
              "      <td>AL - Montgomery</td>\n",
              "      <td>67</td>\n",
              "      <td>16920.79104</td>\n",
              "      <td>6653.805970</td>\n",
              "      <td>5374.149254</td>\n",
              "    </tr>\n",
              "    <tr>\n",
              "      <th>6</th>\n",
              "      <td>039 - EXTRACRANIAL PROCEDURES W/O CC/MCC</td>\n",
              "      <td>10029</td>\n",
              "      <td>EAST ALABAMA MEDICAL CENTER AND SNF</td>\n",
              "      <td>2000 PEPPERELL PARKWAY</td>\n",
              "      <td>OPELIKA</td>\n",
              "      <td>AL</td>\n",
              "      <td>36801</td>\n",
              "      <td>AL - Birmingham</td>\n",
              "      <td>51</td>\n",
              "      <td>11977.13725</td>\n",
              "      <td>5834.745098</td>\n",
              "      <td>4761.411765</td>\n",
              "    </tr>\n",
              "    <tr>\n",
              "      <th>7</th>\n",
              "      <td>039 - EXTRACRANIAL PROCEDURES W/O CC/MCC</td>\n",
              "      <td>10033</td>\n",
              "      <td>UNIVERSITY OF ALABAMA HOSPITAL</td>\n",
              "      <td>619 SOUTH 19TH STREET</td>\n",
              "      <td>BIRMINGHAM</td>\n",
              "      <td>AL</td>\n",
              "      <td>35233</td>\n",
              "      <td>AL - Birmingham</td>\n",
              "      <td>32</td>\n",
              "      <td>35841.09375</td>\n",
              "      <td>8031.125000</td>\n",
              "      <td>5858.500000</td>\n",
              "    </tr>\n",
              "    <tr>\n",
              "      <th>8</th>\n",
              "      <td>039 - EXTRACRANIAL PROCEDURES W/O CC/MCC</td>\n",
              "      <td>10039</td>\n",
              "      <td>HUNTSVILLE HOSPITAL</td>\n",
              "      <td>101 SIVLEY RD</td>\n",
              "      <td>HUNTSVILLE</td>\n",
              "      <td>AL</td>\n",
              "      <td>35801</td>\n",
              "      <td>AL - Huntsville</td>\n",
              "      <td>135</td>\n",
              "      <td>28523.39259</td>\n",
              "      <td>6113.385185</td>\n",
              "      <td>5228.400000</td>\n",
              "    </tr>\n",
              "    <tr>\n",
              "      <th>9</th>\n",
              "      <td>039 - EXTRACRANIAL PROCEDURES W/O CC/MCC</td>\n",
              "      <td>10040</td>\n",
              "      <td>GADSDEN REGIONAL MEDICAL CENTER</td>\n",
              "      <td>1007 GOODYEAR AVENUE</td>\n",
              "      <td>GADSDEN</td>\n",
              "      <td>AL</td>\n",
              "      <td>35903</td>\n",
              "      <td>AL - Birmingham</td>\n",
              "      <td>34</td>\n",
              "      <td>75233.38235</td>\n",
              "      <td>5541.058824</td>\n",
              "      <td>4386.941176</td>\n",
              "    </tr>\n",
              "  </tbody>\n",
              "</table>\n",
              "</div>"
            ],
            "text/plain": [
              "                             DRG Definition  ...  Average Medicare Payments\n",
              "0  039 - EXTRACRANIAL PROCEDURES W/O CC/MCC  ...                4763.736264\n",
              "1  039 - EXTRACRANIAL PROCEDURES W/O CC/MCC  ...                4976.714286\n",
              "2  039 - EXTRACRANIAL PROCEDURES W/O CC/MCC  ...                4453.791667\n",
              "3  039 - EXTRACRANIAL PROCEDURES W/O CC/MCC  ...                4129.160000\n",
              "4  039 - EXTRACRANIAL PROCEDURES W/O CC/MCC  ...                4851.444444\n",
              "5  039 - EXTRACRANIAL PROCEDURES W/O CC/MCC  ...                5374.149254\n",
              "6  039 - EXTRACRANIAL PROCEDURES W/O CC/MCC  ...                4761.411765\n",
              "7  039 - EXTRACRANIAL PROCEDURES W/O CC/MCC  ...                5858.500000\n",
              "8  039 - EXTRACRANIAL PROCEDURES W/O CC/MCC  ...                5228.400000\n",
              "9  039 - EXTRACRANIAL PROCEDURES W/O CC/MCC  ...                4386.941176\n",
              "\n",
              "[10 rows x 12 columns]"
            ]
          },
          "metadata": {
            "tags": []
          },
          "execution_count": 14
        }
      ]
    },
    {
      "cell_type": "code",
      "metadata": {
        "id": "WN9aUE1BT8sY",
        "colab_type": "code",
        "colab": {
          "base_uri": "https://localhost:8080/",
          "height": 750
        },
        "outputId": "99ba856b-2381-4ad0-9c2b-879b2e132c03"
      },
      "source": [
        "medicare_prov_outp.head(10)"
      ],
      "execution_count": 15,
      "outputs": [
        {
          "output_type": "execute_result",
          "data": {
            "text/html": [
              "<div>\n",
              "<style scoped>\n",
              "    .dataframe tbody tr th:only-of-type {\n",
              "        vertical-align: middle;\n",
              "    }\n",
              "\n",
              "    .dataframe tbody tr th {\n",
              "        vertical-align: top;\n",
              "    }\n",
              "\n",
              "    .dataframe thead th {\n",
              "        text-align: right;\n",
              "    }\n",
              "</style>\n",
              "<table border=\"1\" class=\"dataframe\">\n",
              "  <thead>\n",
              "    <tr style=\"text-align: right;\">\n",
              "      <th></th>\n",
              "      <th>APC</th>\n",
              "      <th>Provider Id</th>\n",
              "      <th>Provider Name</th>\n",
              "      <th>Provider Street Address</th>\n",
              "      <th>Provider City</th>\n",
              "      <th>Provider State</th>\n",
              "      <th>Provider Zip Code</th>\n",
              "      <th>Hospital Referral Region (HRR) Description</th>\n",
              "      <th>Outpatient Services</th>\n",
              "      <th>Average  Estimated Submitted Charges</th>\n",
              "      <th>Average Total Payments</th>\n",
              "    </tr>\n",
              "  </thead>\n",
              "  <tbody>\n",
              "    <tr>\n",
              "      <th>0</th>\n",
              "      <td>0012 - Level I Debridement &amp; Destruction</td>\n",
              "      <td>10029</td>\n",
              "      <td>EAST ALABAMA MEDICAL CENTER AND SNF</td>\n",
              "      <td>2000 PEPPERELL PARKWAY</td>\n",
              "      <td>OPELIKA</td>\n",
              "      <td>AL</td>\n",
              "      <td>36801</td>\n",
              "      <td>AL - Birmingham</td>\n",
              "      <td>23</td>\n",
              "      <td>78.086957</td>\n",
              "      <td>21.910435</td>\n",
              "    </tr>\n",
              "    <tr>\n",
              "      <th>1</th>\n",
              "      <td>0012 - Level I Debridement &amp; Destruction</td>\n",
              "      <td>20024</td>\n",
              "      <td>CENTRAL PENINSULA GENERAL HOSPITAL</td>\n",
              "      <td>250 HOSPITAL PLACE</td>\n",
              "      <td>SOLDOTNA</td>\n",
              "      <td>AK</td>\n",
              "      <td>99669</td>\n",
              "      <td>AK - Anchorage</td>\n",
              "      <td>994</td>\n",
              "      <td>149.589749</td>\n",
              "      <td>36.623853</td>\n",
              "    </tr>\n",
              "    <tr>\n",
              "      <th>2</th>\n",
              "      <td>0012 - Level I Debridement &amp; Destruction</td>\n",
              "      <td>30064</td>\n",
              "      <td>UNIVERSITY OF ARIZONA MEDICAL CTR-UNIVERSIT, THE</td>\n",
              "      <td>1501 NORTH CAMPBELL AVENUE</td>\n",
              "      <td>TUCSON</td>\n",
              "      <td>AZ</td>\n",
              "      <td>85724</td>\n",
              "      <td>AZ - Tucson</td>\n",
              "      <td>1765</td>\n",
              "      <td>50.135411</td>\n",
              "      <td>14.541841</td>\n",
              "    </tr>\n",
              "    <tr>\n",
              "      <th>3</th>\n",
              "      <td>0012 - Level I Debridement &amp; Destruction</td>\n",
              "      <td>30088</td>\n",
              "      <td>BANNER BAYWOOD MEDICAL CENTER</td>\n",
              "      <td>6644 EAST BAYWOOD AVENUE</td>\n",
              "      <td>MESA</td>\n",
              "      <td>AZ</td>\n",
              "      <td>85206</td>\n",
              "      <td>AZ - Mesa</td>\n",
              "      <td>20</td>\n",
              "      <td>112.400000</td>\n",
              "      <td>23.736000</td>\n",
              "    </tr>\n",
              "    <tr>\n",
              "      <th>4</th>\n",
              "      <td>0012 - Level I Debridement &amp; Destruction</td>\n",
              "      <td>30111</td>\n",
              "      <td>UNIVERSITY OF ARIZONA MEDICAL CTR- SOUTH CAM, THE</td>\n",
              "      <td>2800 EAST AJO WAY</td>\n",
              "      <td>TUCSON</td>\n",
              "      <td>AZ</td>\n",
              "      <td>85713</td>\n",
              "      <td>AZ - Tucson</td>\n",
              "      <td>22</td>\n",
              "      <td>152.045455</td>\n",
              "      <td>16.569091</td>\n",
              "    </tr>\n",
              "    <tr>\n",
              "      <th>5</th>\n",
              "      <td>0012 - Level I Debridement &amp; Destruction</td>\n",
              "      <td>40016</td>\n",
              "      <td>UAMS MEDICAL CENTER</td>\n",
              "      <td>4301 WEST MARKHAM STREET MAIL SLOT 612</td>\n",
              "      <td>LITTLE ROCK</td>\n",
              "      <td>AR</td>\n",
              "      <td>72205</td>\n",
              "      <td>AR - Little Rock</td>\n",
              "      <td>3166</td>\n",
              "      <td>58.954668</td>\n",
              "      <td>13.573774</td>\n",
              "    </tr>\n",
              "    <tr>\n",
              "      <th>6</th>\n",
              "      <td>0012 - Level I Debridement &amp; Destruction</td>\n",
              "      <td>40017</td>\n",
              "      <td>NORTH ARKANSAS REGIONAL MEDICAL CENTER</td>\n",
              "      <td>620 NORTH MAIN STREET</td>\n",
              "      <td>HARRISON</td>\n",
              "      <td>AR</td>\n",
              "      <td>72601</td>\n",
              "      <td>AR - Springdale</td>\n",
              "      <td>438</td>\n",
              "      <td>143.639406</td>\n",
              "      <td>28.401027</td>\n",
              "    </tr>\n",
              "    <tr>\n",
              "      <th>7</th>\n",
              "      <td>0012 - Level I Debridement &amp; Destruction</td>\n",
              "      <td>40036</td>\n",
              "      <td>BAPTIST HEALTH MEDICAL CENTER NORTH LITTLE ROCK</td>\n",
              "      <td>3333 SPRINGHILL DRIVE</td>\n",
              "      <td>NORTH LITTLE RO</td>\n",
              "      <td>AR</td>\n",
              "      <td>72117</td>\n",
              "      <td>AR - Little Rock</td>\n",
              "      <td>21</td>\n",
              "      <td>115.630952</td>\n",
              "      <td>18.256667</td>\n",
              "    </tr>\n",
              "    <tr>\n",
              "      <th>8</th>\n",
              "      <td>0012 - Level I Debridement &amp; Destruction</td>\n",
              "      <td>40055</td>\n",
              "      <td>SPARKS REGIONAL MEDICAL CENTER</td>\n",
              "      <td>1001 TOWSON AVENUE</td>\n",
              "      <td>FORT SMITH</td>\n",
              "      <td>AR</td>\n",
              "      <td>72901</td>\n",
              "      <td>AR - Fort Smith</td>\n",
              "      <td>41</td>\n",
              "      <td>80.102439</td>\n",
              "      <td>13.172683</td>\n",
              "    </tr>\n",
              "    <tr>\n",
              "      <th>9</th>\n",
              "      <td>0012 - Level I Debridement &amp; Destruction</td>\n",
              "      <td>40118</td>\n",
              "      <td>NEA BAPTIST MEMORIAL HOSPITAL</td>\n",
              "      <td>3024 STADIUM BOULEVARD</td>\n",
              "      <td>JONESBORO</td>\n",
              "      <td>AR</td>\n",
              "      <td>72401</td>\n",
              "      <td>AR - Jonesboro</td>\n",
              "      <td>12</td>\n",
              "      <td>16.993333</td>\n",
              "      <td>12.646667</td>\n",
              "    </tr>\n",
              "  </tbody>\n",
              "</table>\n",
              "</div>"
            ],
            "text/plain": [
              "                                        APC  ...  Average Total Payments\n",
              "0  0012 - Level I Debridement & Destruction  ...               21.910435\n",
              "1  0012 - Level I Debridement & Destruction  ...               36.623853\n",
              "2  0012 - Level I Debridement & Destruction  ...               14.541841\n",
              "3  0012 - Level I Debridement & Destruction  ...               23.736000\n",
              "4  0012 - Level I Debridement & Destruction  ...               16.569091\n",
              "5  0012 - Level I Debridement & Destruction  ...               13.573774\n",
              "6  0012 - Level I Debridement & Destruction  ...               28.401027\n",
              "7  0012 - Level I Debridement & Destruction  ...               18.256667\n",
              "8  0012 - Level I Debridement & Destruction  ...               13.172683\n",
              "9  0012 - Level I Debridement & Destruction  ...               12.646667\n",
              "\n",
              "[10 rows x 11 columns]"
            ]
          },
          "metadata": {
            "tags": []
          },
          "execution_count": 15
        }
      ]
    },
    {
      "cell_type": "code",
      "metadata": {
        "id": "4u0-yoxScSpE",
        "colab_type": "code",
        "colab": {
          "base_uri": "https://localhost:8080/",
          "height": 527
        },
        "outputId": "c2c74c92-234d-4ee9-c265-9ae53de18f1a"
      },
      "source": [
        "medicare_prov_outp['APC'].unique()"
      ],
      "execution_count": 16,
      "outputs": [
        {
          "output_type": "execute_result",
          "data": {
            "text/plain": [
              "array(['0012 - Level I Debridement & Destruction',\n",
              "       '0013 - Level II Debridement & Destruction',\n",
              "       '0015 - Level III Debridement & Destruction',\n",
              "       '0019 - Level I Excision/ Biopsy',\n",
              "       '0020 - Level II Excision/ Biopsy',\n",
              "       '0073 - Level III Endoscopy Upper Airway',\n",
              "       '0074 - Level IV Endoscopy Upper Airway',\n",
              "       '0078 - Level III Pulmonary Treatment',\n",
              "       '0096 - Level II Noninvasive Physiologic Studies',\n",
              "       '0203 - Level IV Nerve Injections',\n",
              "       '0204 - Level I Nerve Injections',\n",
              "       '0206 - Level II Nerve Injections',\n",
              "       '0207 - Level III Nerve Injections',\n",
              "       '0209 - Level II Extended EEG, Sleep, and Cardiovascular Studies',\n",
              "       '0265 - Level I Diagnostic and Screening Ultrasound',\n",
              "       '0267 - Level III Diagnostic and Screening Ultrasound',\n",
              "       '0269 - Level II Echocardiogram Without Contrast',\n",
              "       '0270 - Level III Echocardiogram Without Contrast',\n",
              "       '0336 - Magnetic Resonance Imaging and Magnetic Resonance Angiography without Contrast',\n",
              "       '0368 - Level II Pulmonary Tests',\n",
              "       '0369 - Level III Pulmonary Tests',\n",
              "       '0377 - Level II Cardiac Imaging',\n",
              "       '0604 - Level 1 Hospital Clinic Visits',\n",
              "       '0605 - Level 2 Hospital Clinic Visits',\n",
              "       '0606 - Level 3 Hospital Clinic Visits',\n",
              "       '0607 - Level 4 Hospital Clinic Visits',\n",
              "       '0608 - Level 5 Hospital Clinic Visits',\n",
              "       '0690 - Level I Electronic Analysis of Devices',\n",
              "       '0692 - Level II Electronic Analysis of Devices',\n",
              "       '0698 - Level II Eye Tests & Treatments'], dtype=object)"
            ]
          },
          "metadata": {
            "tags": []
          },
          "execution_count": 16
        }
      ]
    },
    {
      "cell_type": "code",
      "metadata": {
        "id": "TdHy21R2ckLl",
        "colab_type": "code",
        "colab": {
          "base_uri": "https://localhost:8080/",
          "height": 1000
        },
        "outputId": "125f34e8-dcf7-4d69-f3df-d9775268a21c"
      },
      "source": [
        "medicare_prov_outp.boxplot(by = 'APC', column=['Average Total Payments'], rot =90, figsize=(20,8))"
      ],
      "execution_count": 17,
      "outputs": [
        {
          "output_type": "execute_result",
          "data": {
            "text/plain": [
              "<matplotlib.axes._subplots.AxesSubplot at 0x7f949e3c8d68>"
            ]
          },
          "metadata": {
            "tags": []
          },
          "execution_count": 17
        },
        {
          "output_type": "display_data",
          "data": {
            "image/png": "[encoded data removed]",
            "text/plain": [
              "<Figure size 1440x576 with 1 Axes>"
            ]
          },
          "metadata": {
            "tags": [],
            "needs_background": "light"
          }
        }
      ]
    },
    {
      "cell_type": "code",
      "metadata": {
        "id": "dYGc0XtqAX4g",
        "colab_type": "code",
        "colab": {
          "base_uri": "https://localhost:8080/",
          "height": 831
        },
        "outputId": "5c545851-e8d2-4a35-c540-95e64c15fa3f"
      },
      "source": [
        "medicare_charge_outp.boxplot(by = 'APC', column=['Average Total Payments'], rot =90, figsize=(20,5))"
      ],
      "execution_count": 18,
      "outputs": [
        {
          "output_type": "execute_result",
          "data": {
            "text/plain": [
              "<matplotlib.axes._subplots.AxesSubplot at 0x7f949e0b7ef0>"
            ]
          },
          "metadata": {
            "tags": []
          },
          "execution_count": 18
        },
        {
          "output_type": "display_data",
          "data": {
            "image/png": "[encoded data removed]",
            "text/plain": [
              "<Figure size 1440x360 with 1 Axes>"
            ]
          },
          "metadata": {
            "tags": [],
            "needs_background": "light"
          }
        }
      ]
    },
    {
      "cell_type": "code",
      "metadata": {
        "id": "IhkOAFE17Yd1",
        "colab_type": "code",
        "colab": {}
      },
      "source": [
        "df_inp = pd.merge(medicare_charge_inp, medicare_prov_inp, how='outer', on=['DRG Definition'])"
      ],
      "execution_count": 0,
      "outputs": []
    },
    {
      "cell_type": "code",
      "metadata": {
        "id": "9LGXGVpp_6HC",
        "colab_type": "code",
        "colab": {
          "base_uri": "https://localhost:8080/",
          "height": 408
        },
        "outputId": "2136a6fb-aeda-4316-965d-b159344d4386"
      },
      "source": [
        "df_inp.info()"
      ],
      "execution_count": 23,
      "outputs": [
        {
          "output_type": "stream",
          "text": [
            "<class 'pandas.core.frame.DataFrame'>\n",
            "Int64Index: 163065 entries, 0 to 163064\n",
            "Data columns (total 16 columns):\n",
            " #   Column                                      Non-Null Count   Dtype  \n",
            "---  ------                                      --------------   -----  \n",
            " 0   DRG Definition                              163065 non-null  object \n",
            " 1   Total Discharges_x                          163065 non-null  int64  \n",
            " 2   Average Covered Charges_x                   163065 non-null  float64\n",
            " 3   Average Total Payments_x                    163065 non-null  float64\n",
            " 4   Average Medicare Payments_x                 163065 non-null  float64\n",
            " 5   Provider Id                                 163065 non-null  int64  \n",
            " 6   Provider Name                               163065 non-null  object \n",
            " 7   Provider Street Address                     163065 non-null  object \n",
            " 8   Provider City                               163065 non-null  object \n",
            " 9   Provider State                              163065 non-null  object \n",
            " 10  Provider Zip Code                           163065 non-null  int64  \n",
            " 11  Hospital Referral Region (HRR) Description  163065 non-null  object \n",
            " 12  Total Discharges_y                          163065 non-null  int64  \n",
            " 13  Average Covered Charges_y                   163065 non-null  float64\n",
            " 14  Average Total Payments_y                    163065 non-null  float64\n",
            " 15  Average Medicare Payments_y                 163065 non-null  float64\n",
            "dtypes: float64(6), int64(4), object(6)\n",
            "memory usage: 21.1+ MB\n"
          ],
          "name": "stdout"
        }
      ]
    },
    {
      "cell_type": "code",
      "metadata": {
        "id": "96cgczaVHi5T",
        "colab_type": "code",
        "colab": {
          "base_uri": "https://localhost:8080/",
          "height": 1000
        },
        "outputId": "803f0e01-1278-4611-d399-e21749676e9b"
      },
      "source": [
        "medicare_prov_inp['DRG Definition'].unique()"
      ],
      "execution_count": 24,
      "outputs": [
        {
          "output_type": "execute_result",
          "data": {
            "text/plain": [
              "array(['039 - EXTRACRANIAL PROCEDURES W/O CC/MCC',\n",
              "       '057 - DEGENERATIVE NERVOUS SYSTEM DISORDERS W/O MCC',\n",
              "       '064 - INTRACRANIAL HEMORRHAGE OR CEREBRAL INFARCTION W MCC',\n",
              "       '065 - INTRACRANIAL HEMORRHAGE OR CEREBRAL INFARCTION W CC',\n",
              "       '066 - INTRACRANIAL HEMORRHAGE OR CEREBRAL INFARCTION W/O CC/MCC',\n",
              "       '069 - TRANSIENT ISCHEMIA',\n",
              "       '074 - CRANIAL & PERIPHERAL NERVE DISORDERS W/O MCC',\n",
              "       '101 - SEIZURES W/O MCC', '149 - DYSEQUILIBRIUM',\n",
              "       '176 - PULMONARY EMBOLISM W/O MCC',\n",
              "       '177 - RESPIRATORY INFECTIONS & INFLAMMATIONS W MCC',\n",
              "       '178 - RESPIRATORY INFECTIONS & INFLAMMATIONS W CC',\n",
              "       '189 - PULMONARY EDEMA & RESPIRATORY FAILURE',\n",
              "       '190 - CHRONIC OBSTRUCTIVE PULMONARY DISEASE W MCC',\n",
              "       '191 - CHRONIC OBSTRUCTIVE PULMONARY DISEASE W CC',\n",
              "       '192 - CHRONIC OBSTRUCTIVE PULMONARY DISEASE W/O CC/MCC',\n",
              "       '193 - SIMPLE PNEUMONIA & PLEURISY W MCC',\n",
              "       '194 - SIMPLE PNEUMONIA & PLEURISY W CC',\n",
              "       '195 - SIMPLE PNEUMONIA & PLEURISY W/O CC/MCC',\n",
              "       '202 - BRONCHITIS & ASTHMA W CC/MCC',\n",
              "       '203 - BRONCHITIS & ASTHMA W/O CC/MCC',\n",
              "       '207 - RESPIRATORY SYSTEM DIAGNOSIS W VENTILATOR SUPPORT 96+ HOURS',\n",
              "       '208 - RESPIRATORY SYSTEM DIAGNOSIS W VENTILATOR SUPPORT <96 HOURS',\n",
              "       '238 - MAJOR CARDIOVASC PROCEDURES W/O MCC',\n",
              "       '243 - PERMANENT CARDIAC PACEMAKER IMPLANT W CC',\n",
              "       '244 - PERMANENT CARDIAC PACEMAKER IMPLANT W/O CC/MCC',\n",
              "       '246 - PERC CARDIOVASC PROC W DRUG-ELUTING STENT W MCC OR 4+ VESSELS/STENTS',\n",
              "       '247 - PERC CARDIOVASC PROC W DRUG-ELUTING STENT W/O MCC',\n",
              "       '249 - PERC CARDIOVASC PROC W NON-DRUG-ELUTING STENT W/O MCC',\n",
              "       '251 - PERC CARDIOVASC PROC W/O CORONARY ARTERY STENT W/O MCC',\n",
              "       '252 - OTHER VASCULAR PROCEDURES W MCC',\n",
              "       '253 - OTHER VASCULAR PROCEDURES W CC',\n",
              "       '254 - OTHER VASCULAR PROCEDURES W/O CC/MCC',\n",
              "       '280 - ACUTE MYOCARDIAL INFARCTION, DISCHARGED ALIVE W MCC',\n",
              "       '281 - ACUTE MYOCARDIAL INFARCTION, DISCHARGED ALIVE W CC',\n",
              "       '282 - ACUTE MYOCARDIAL INFARCTION, DISCHARGED ALIVE W/O CC/MCC',\n",
              "       '286 - CIRCULATORY DISORDERS EXCEPT AMI, W CARD CATH W MCC',\n",
              "       '287 - CIRCULATORY DISORDERS EXCEPT AMI, W CARD CATH W/O MCC',\n",
              "       '291 - HEART FAILURE & SHOCK W MCC',\n",
              "       '292 - HEART FAILURE & SHOCK W CC',\n",
              "       '293 - HEART FAILURE & SHOCK W/O CC/MCC',\n",
              "       '300 - PERIPHERAL VASCULAR DISORDERS W CC',\n",
              "       '301 - PERIPHERAL VASCULAR DISORDERS W/O CC/MCC',\n",
              "       '303 - ATHEROSCLEROSIS W/O MCC', '305 - HYPERTENSION W/O MCC',\n",
              "       '308 - CARDIAC ARRHYTHMIA & CONDUCTION DISORDERS W MCC',\n",
              "       '309 - CARDIAC ARRHYTHMIA & CONDUCTION DISORDERS W CC',\n",
              "       '310 - CARDIAC ARRHYTHMIA & CONDUCTION DISORDERS W/O CC/MCC',\n",
              "       '312 - SYNCOPE & COLLAPSE', '313 - CHEST PAIN',\n",
              "       '314 - OTHER CIRCULATORY SYSTEM DIAGNOSES W MCC',\n",
              "       '315 - OTHER CIRCULATORY SYSTEM DIAGNOSES W CC',\n",
              "       '329 - MAJOR SMALL & LARGE BOWEL PROCEDURES W MCC',\n",
              "       '330 - MAJOR SMALL & LARGE BOWEL PROCEDURES W CC',\n",
              "       '372 - MAJOR GASTROINTESTINAL DISORDERS & PERITONEAL INFECTIONS W CC',\n",
              "       '377 - G.I. HEMORRHAGE W MCC', '378 - G.I. HEMORRHAGE W CC',\n",
              "       '379 - G.I. HEMORRHAGE W/O CC/MCC', '389 - G.I. OBSTRUCTION W CC',\n",
              "       '390 - G.I. OBSTRUCTION W/O CC/MCC',\n",
              "       '391 - ESOPHAGITIS, GASTROENT & MISC DIGEST DISORDERS W MCC',\n",
              "       '392 - ESOPHAGITIS, GASTROENT & MISC DIGEST DISORDERS W/O MCC',\n",
              "       '394 - OTHER DIGESTIVE SYSTEM DIAGNOSES W CC',\n",
              "       '418 - LAPAROSCOPIC CHOLECYSTECTOMY W/O C.D.E. W CC',\n",
              "       '419 - LAPAROSCOPIC CHOLECYSTECTOMY W/O C.D.E. W/O CC/MCC',\n",
              "       '439 - DISORDERS OF PANCREAS EXCEPT MALIGNANCY W CC',\n",
              "       '460 - SPINAL FUSION EXCEPT CERVICAL W/O MCC',\n",
              "       '469 - MAJOR JOINT REPLACEMENT OR REATTACHMENT OF LOWER EXTREMITY W MCC',\n",
              "       '470 - MAJOR JOINT REPLACEMENT OR REATTACHMENT OF LOWER EXTREMITY W/O MCC',\n",
              "       '473 - CERVICAL SPINAL FUSION W/O CC/MCC',\n",
              "       '480 - HIP & FEMUR PROCEDURES EXCEPT MAJOR JOINT W MCC',\n",
              "       '481 - HIP & FEMUR PROCEDURES EXCEPT MAJOR JOINT W CC',\n",
              "       '482 - HIP & FEMUR PROCEDURES EXCEPT MAJOR JOINT W/O CC/MCC',\n",
              "       '491 - BACK & NECK PROC EXC SPINAL FUSION W/O CC/MCC',\n",
              "       '536 - FRACTURES OF HIP & PELVIS W/O MCC',\n",
              "       '552 - MEDICAL BACK PROBLEMS W/O MCC',\n",
              "       '563 - FX, SPRN, STRN & DISL EXCEPT FEMUR, HIP, PELVIS & THIGH W/O MCC',\n",
              "       '602 - CELLULITIS W MCC', '603 - CELLULITIS W/O MCC',\n",
              "       '638 - DIABETES W CC',\n",
              "       '640 - MISC DISORDERS OF NUTRITION,METABOLISM,FLUIDS/ELECTROLYTES W MCC',\n",
              "       '641 - MISC DISORDERS OF NUTRITION,METABOLISM,FLUIDS/ELECTROLYTES W/O MCC',\n",
              "       '682 - RENAL FAILURE W MCC', '683 - RENAL FAILURE W CC',\n",
              "       '684 - RENAL FAILURE W/O CC/MCC',\n",
              "       '689 - KIDNEY & URINARY TRACT INFECTIONS W MCC',\n",
              "       '690 - KIDNEY & URINARY TRACT INFECTIONS W/O MCC',\n",
              "       '698 - OTHER KIDNEY & URINARY TRACT DIAGNOSES W MCC',\n",
              "       '699 - OTHER KIDNEY & URINARY TRACT DIAGNOSES W CC',\n",
              "       '811 - RED BLOOD CELL DISORDERS W MCC',\n",
              "       '812 - RED BLOOD CELL DISORDERS W/O MCC',\n",
              "       '853 - INFECTIOUS & PARASITIC DISEASES W O.R. PROCEDURE W MCC',\n",
              "       '870 - SEPTICEMIA OR SEVERE SEPSIS W MV 96+ HOURS',\n",
              "       '871 - SEPTICEMIA OR SEVERE SEPSIS W/O MV 96+ HOURS W MCC',\n",
              "       '872 - SEPTICEMIA OR SEVERE SEPSIS W/O MV 96+ HOURS W/O MCC',\n",
              "       '885 - PSYCHOSES',\n",
              "       '897 - ALCOHOL/DRUG ABUSE OR DEPENDENCE W/O REHABILITATION THERAPY W/O MCC',\n",
              "       '917 - POISONING & TOXIC EFFECTS OF DRUGS W MCC',\n",
              "       '918 - POISONING & TOXIC EFFECTS OF DRUGS W/O MCC',\n",
              "       '948 - SIGNS & SYMPTOMS W/O MCC'], dtype=object)"
            ]
          },
          "metadata": {
            "tags": []
          },
          "execution_count": 24
        }
      ]
    },
    {
      "cell_type": "code",
      "metadata": {
        "id": "38Z7xK9EJ1gh",
        "colab_type": "code",
        "colab": {}
      },
      "source": [
        ""
      ],
      "execution_count": 0,
      "outputs": []
    }
  ]
}